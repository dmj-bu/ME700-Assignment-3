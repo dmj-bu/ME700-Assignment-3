{
 "cells": [
  {
   "cell_type": "code",
   "execution_count": 1,
   "id": "a70422f3",
   "metadata": {},
   "outputs": [],
   "source": [
    "import sys\n",
    "sys.path.append('../src')\n",
    "import pre_process as pre\n",
    "import pre_process_demo_helper_fcns as pre_demo\n",
    "import solver_demo_helper_functions as solver_demo\n",
    "from finiteelementanalysis.solver import hyperelastic_solver\n",
    "from finiteelementanalysis import visualize as viz\n",
    "import numpy as np\n",
    "import matplotlib.pyplot as plt\n",
    "from pathlib import Path\n",
    "%matplotlib inline\n"
   ]
  },
  {
   "cell_type": "code",
   "execution_count": 2,
   "id": "49b7123c",
   "metadata": {},
   "outputs": [],
   "source": [
    "# Geometry and mesh\n",
    "L = 10.0\n",
    "H = 1.0\n",
    "nx = 20\n",
    "ny = 2\n",
    "ele_type = \"D2_nn8_quad\"\n",
    "ndof = 2\n",
    "\n",
    "coords, connect = pre.generate_rect_mesh_2d(ele_type, 0.0, 0.0, L, H, nx, ny)\n"
   ]
  },
  {
   "cell_type": "code",
   "execution_count": 3,
   "id": "c1d09964",
   "metadata": {},
   "outputs": [],
   "source": [
    "# Boundary conditions and large load setup\n",
    "boundary_nodes, boundary_edges = pre.identify_rect_boundaries(\n",
    "    coords, connect, ele_type, x_lower=0.0, x_upper=L, y_lower=0.0, y_upper=H\n",
    ")\n",
    "\n",
    "fixed_nodes = pre.assign_fixed_nodes_rect(boundary_nodes, \"left\", 0.0, 0.0)\n",
    "q_large = -100.0  # Large load to force non-convergence\n",
    "dload_info = pre.assign_uniform_load_rect(boundary_edges, \"top\", 0.0, q_large)\n"
   ]
  },
  {
   "cell_type": "code",
   "execution_count": 4,
   "id": "57a69426",
   "metadata": {},
   "outputs": [],
   "source": [
    "# Very soft material and nearly incompressible behavior\n",
    "E_soft = 100.0\n",
    "nu = 0.49\n",
    "mu = E_soft / (2 * (1 + nu))\n",
    "kappa = E_soft / (3 * (1 - 2 * nu))\n",
    "material_props = np.array([mu, kappa])\n"
   ]
  },
  {
   "cell_type": "code",
   "execution_count": 6,
   "id": "41e856e6",
   "metadata": {},
   "outputs": [
    {
     "name": "stdout",
     "output_type": "stream",
     "text": [
      "Step 0, load factor = 1.000\n",
      "Iteration 1, Correction=1.000000e+00, Residual=5.031530e-01, tolerance=1.000000e-08\n",
      "Iteration 2, Correction=0.000000e+00, Residual=nan, tolerance=1.000000e-08\n",
      "Simulation completed successfully\n"
     ]
    }
   ],
   "source": [
    "# Run the solver and expect matrix rank warning\n",
    "try:\n",
    "    displacements_all, _ = hyperelastic_solver(\n",
    "        material_props,\n",
    "        ele_type,\n",
    "        coords.T,\n",
    "        connect.T,\n",
    "        fixed_nodes,\n",
    "        dload_info,\n",
    "        nr_print=True,\n",
    "        nr_num_steps=1,\n",
    "        nr_tol=1e-8,\n",
    "        nr_maxit=30\n",
    "    )\n",
    "    print(\"Simulation completed successfully\")\n",
    "except Exception as e:\n",
    "    print(\"Simulation failed to converge\")\n",
    "    print(\"Reason:\", str(e))\n"
   ]
  },
  {
   "cell_type": "code",
   "execution_count": 7,
   "id": "39a8fdfc",
   "metadata": {},
   "outputs": [
    {
     "name": "stdout",
     "output_type": "stream",
     "text": [
      "\n",
      "===== CONVERGENCE SUMMARY =====\n",
      "Displacement vector contains NaNs — numerical divergence occurred.\n",
      "Note: Residual printed during solver run showed 'nan' — Newton iteration likely diverged.\n"
     ]
    }
   ],
   "source": [
    "# === Convergence Diagnostic Summary ===\n",
    "if displacements_all is not None:\n",
    "    final_disp = displacements_all[-1]\n",
    "    has_nan = np.isnan(final_disp).any()\n",
    "    correction_nan = False\n",
    "\n",
    "    print(\"\\n===== CONVERGENCE SUMMARY =====\")\n",
    "    if has_nan:\n",
    "        print(\"Displacement vector contains NaNs — numerical divergence occurred.\")\n",
    "    else:\n",
    "        print(\"Displacement vector is valid, but review residual/correction values carefully.\")\n",
    "\n",
    "    # You can optionally check for NaNs in the last residual (if accessible from your solver)\n",
    "    print(\"Note: Residual printed during solver run showed 'nan' — Newton iteration likely diverged.\")\n",
    "else:\n",
    "    print(\"Solver did not return displacements — hard failure occurred.\")\n"
   ]
  },
  {
   "cell_type": "code",
   "execution_count": 8,
   "id": "c2cde6e8",
   "metadata": {},
   "outputs": [
    {
     "name": "stdout",
     "output_type": "stream",
     "text": [
      "\n",
      "WHY DID THIS FAIL?\n",
      "------------------\n",
      "- Material is extremely soft (E = 100), making the system highly nonlinear.\n",
      "- Load is applied abruptly in a single step, with no ramping.\n",
      "- The Newton-Raphson method assumes small incremental corrections — this setup breaks that assumption.\n",
      "- Nearly incompressible material (ν ≈ 0.49) leads to a poorly conditioned stiffness matrix.\n",
      "- This can cause:\n",
      "    - NaNs in the residual or displacement vector\n",
      "    - Matrix singularity warnings\n",
      "    - Solver stagnation or divergence without throwing a formal error\n",
      "\n"
     ]
    }
   ],
   "source": [
    "# Explanation of failure\n",
    "print(\"\"\"\n",
    "WHY DID THIS FAIL?\n",
    "------------------\n",
    "- Material is extremely soft (E = 100), making the system highly nonlinear.\n",
    "- Load is applied abruptly in a single step, with no ramping.\n",
    "- The Newton-Raphson method assumes small incremental corrections — this setup breaks that assumption.\n",
    "- Nearly incompressible material (ν ≈ 0.49) leads to a poorly conditioned stiffness matrix.\n",
    "- This can cause:\n",
    "    - NaNs in the residual or displacement vector\n",
    "    - Matrix singularity warnings\n",
    "    - Solver stagnation or divergence without throwing a formal error\n",
    "\"\"\")\n"
   ]
  }
 ],
 "metadata": {
  "kernelspec": {
   "display_name": "me700",
   "language": "python",
   "name": "python3"
  },
  "language_info": {
   "codemirror_mode": {
    "name": "ipython",
    "version": 3
   },
   "file_extension": ".py",
   "mimetype": "text/x-python",
   "name": "python",
   "nbconvert_exporter": "python",
   "pygments_lexer": "ipython3",
   "version": "3.12.9"
  }
 },
 "nbformat": 4,
 "nbformat_minor": 5
}
