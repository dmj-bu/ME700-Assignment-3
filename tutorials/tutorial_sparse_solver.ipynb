{
 "cells": [
  {
   "cell_type": "code",
   "execution_count": 13,
   "metadata": {},
   "outputs": [],
   "source": [
    "import sys\n",
    "sys.path.append('../src')\n",
    "import pre_process as pre\n",
    "import pre_process_demo_helper_fcns as pre_demo\n",
    "import solver_demo_helper_functions as solver_demo\n",
    "from finiteelementanalysis.solver import hyperelastic_solver\n",
    "from finiteelementanalysis import visualize as viz\n",
    "import numpy as np\n",
    "\n",
    "def define_sample_problem_geom(ele_type, nx, ny, L, H):\n",
    "    coords, connect = pre.generate_rect_mesh_2d(ele_type, 0.0, 0.0, L, H, nx, ny)\n",
    "    return coords, connect\n",
    "\n",
    "def define_sample_problem_info(ele_type, coords, connect, L, H):\n",
    "    # Identify boundaries\n",
    "    boundary_nodes, boundary_edges = pre.identify_rect_boundaries(coords, connect, ele_type, 0.0, L, 0.0, H)\n",
    "    # 1. Fix left boundary: both u_x and u_y = 0.\n",
    "    fixed_nodes = pre.assign_fixed_nodes_rect(boundary_nodes, \"left\", 0.0, 0.0)\n",
    "    # Assign distributed load on the right boundary\n",
    "    q = 10.0\n",
    "    dload_info = pre.assign_uniform_load_rect(boundary_edges, \"right\", q, 0.0)\n",
    "    # Assign material properties\n",
    "    mu = 10\n",
    "    kappa = 100\n",
    "    material_props = np.array([mu, kappa])\n",
    "    # Assign artificial displacement field\n",
    "    displacement = np.zeros((coords.shape))\n",
    "    for kk in range(0, coords.shape[0]):\n",
    "        displacement[kk, 0] = coords[kk, 0] * 0.01\n",
    "    return displacement, material_props, fixed_nodes, dload_info\n"
   ]
  },
  {
   "cell_type": "code",
   "execution_count": 29,
   "metadata": {},
   "outputs": [],
   "source": [
    "ele_type = \"D2_nn6_tri\"\n",
    "nx = 30\n",
    "ny = 30\n",
    "L = 10\n",
    "H = 10\n",
    "coords, connect = define_sample_problem_geom(ele_type, nx, ny, L, H)\n",
    "displacement, material_props, fixed_nodes, dload_info = define_sample_problem_info(ele_type, coords, connect, L, H)\n",
    "\n",
    "fname = \"solver_mesh_1.png\"\n",
    "pre_demo.plot_mesh_2D(fname, ele_type, coords, connect)\n"
   ]
  },
  {
   "cell_type": "code",
   "execution_count": 30,
   "metadata": {},
   "outputs": [
    {
     "name": "stdout",
     "output_type": "stream",
     "text": [
      "avg time global stiffness: 0.8407915799878538 seconds\n",
      "avg time global traction: 0.0043926200363785025 seconds\n",
      "avg time global residual: 0.6609769999980927 seconds\n"
     ]
    }
   ],
   "source": [
    "# test how long assembley takes\n",
    "\n",
    "num_runs = 5\n",
    "\n",
    "avg_time_global_stiffness = solver_demo.time_assemble_global_stiffness(\n",
    "        num_runs=num_runs,\n",
    "        ele_type=ele_type,\n",
    "        coords=coords.T,\n",
    "        connect=connect.T,\n",
    "        material_props=material_props,\n",
    "        displacement=displacement.T\n",
    "    )\n",
    "\n",
    "avg_time_global_traction = solver_demo.time_assemble_global_traction(\n",
    "        num_runs=num_runs,\n",
    "        ele_type=ele_type,\n",
    "        coords=coords.T,\n",
    "        connect=connect.T,\n",
    "        dload_info=dload_info\n",
    "    )\n",
    "\n",
    "avg_time_global_residual = solver_demo.time_assemble_global_residual(\n",
    "        num_runs=num_runs,\n",
    "        ele_type=ele_type,\n",
    "        coords=coords.T,\n",
    "        connect=connect.T,\n",
    "        material_props=material_props,\n",
    "        displacement=displacement.T\n",
    "    )\n",
    "\n",
    "print(\"avg time global stiffness:\", avg_time_global_stiffness, \"seconds\")\n",
    "print(\"avg time global traction:\", avg_time_global_traction, \"seconds\")\n",
    "print(\"avg time global residual:\", avg_time_global_residual, \"seconds\")"
   ]
  },
  {
   "cell_type": "code",
   "execution_count": 31,
   "metadata": {},
   "outputs": [
    {
     "name": "stdout",
     "output_type": "stream",
     "text": [
      "average time dense matrix solve: 7.630565640004352 seconds\n",
      "Number of DOFs: 7442\n"
     ]
    }
   ],
   "source": [
    "# test how long the matrix solve takes\n",
    "\n",
    "K, R = solver_demo.prep_for_matrix_solve(ele_type, coords.T, connect.T, material_props, displacement.T, fixed_nodes, dload_info)\n",
    "\n",
    "method = \"dense\"\n",
    "num_runs = 5\n",
    "avg_time_dense_solve = solver_demo.time_one_matrix_solve(K, R, method, num_runs)\n",
    "\n",
    "print(\"average time dense matrix solve:\", avg_time_dense_solve, \"seconds\")\n",
    "print(\"Number of DOFs:\", K.shape[0])\n"
   ]
  },
  {
   "cell_type": "code",
   "execution_count": 32,
   "metadata": {},
   "outputs": [],
   "source": [
    "# look at the stiffness matrix to see sparse-ness\n",
    "\n",
    "fname = \"solver_global_stiffness_1.png\"\n",
    "solver_demo.analyze_and_visualize_matrix(K, fname)"
   ]
  },
  {
   "cell_type": "code",
   "execution_count": 33,
   "metadata": {},
   "outputs": [
    {
     "name": "stdout",
     "output_type": "stream",
     "text": [
      "avg time global stiffness assembly sparse: 0.9268038799986243 seconds\n"
     ]
    }
   ],
   "source": [
    "# try a sparse matrix assembly option\n",
    "\n",
    "num_runs = 5\n",
    "\n",
    "avg_time_global_stiffness_sparse = solver_demo.time_assemble_global_stiffness_sparse(\n",
    "        num_runs=num_runs,\n",
    "        ele_type=ele_type,\n",
    "        coords=coords.T,\n",
    "        connect=connect.T,\n",
    "        material_props=material_props,\n",
    "        displacement=displacement.T\n",
    "    )\n",
    "\n",
    "print(\"avg time global stiffness assembly sparse:\", avg_time_global_stiffness_sparse, \"seconds\")"
   ]
  },
  {
   "cell_type": "code",
   "execution_count": 34,
   "metadata": {},
   "outputs": [
    {
     "name": "stdout",
     "output_type": "stream",
     "text": [
      "average time sparse matrix solve: 0.06225759999360889\n"
     ]
    }
   ],
   "source": [
    "# try a sparse solver\n",
    "\n",
    "method = \"sparse\"\n",
    "num_runs = 10\n",
    "avg_time_sparse_solve = solver_demo.time_one_matrix_solve(K, R, method, num_runs)\n",
    "\n",
    "print(\"average time sparse matrix solve:\", avg_time_sparse_solve)\n"
   ]
  },
  {
   "cell_type": "code",
   "execution_count": 35,
   "metadata": {},
   "outputs": [
    {
     "name": "stdout",
     "output_type": "stream",
     "text": [
      "average time sparse iterative matrix solve: 0.028174120001494884\n"
     ]
    }
   ],
   "source": [
    "# try another sparse solver\n",
    "\n",
    "method = \"sparse_iterative\"\n",
    "num_runs = 10\n",
    "avg_time_sparse_iterative_solve = solver_demo.time_one_matrix_solve(K, R, method, num_runs)\n",
    "\n",
    "print(\"average time sparse iterative matrix solve:\", avg_time_sparse_iterative_solve)\n"
   ]
  },
  {
   "cell_type": "code",
   "execution_count": 21,
   "metadata": {},
   "outputs": [
    {
     "name": "stdout",
     "output_type": "stream",
     "text": [
      "Step 0, load factor = 0.200\n",
      "Iteration 1, Correction=1.000000e+00, Residual=2.727134e-02, tolerance=1.000000e-09\n",
      "Iteration 2, Correction=6.242068e-02, Residual=6.329944e-03, tolerance=1.000000e-09\n",
      "Iteration 3, Correction=7.085530e-04, Residual=2.045629e-05, tolerance=1.000000e-09\n",
      "Iteration 4, Correction=2.214547e-08, Residual=5.597451e-09, tolerance=1.000000e-09\n",
      "Iteration 5, Correction=7.783338e-16, Residual=9.536140e-16, tolerance=1.000000e-09\n",
      "Step 1, load factor = 0.400\n",
      "Iteration 1, Correction=5.159131e-01, Residual=2.727134e-02, tolerance=1.000000e-09\n",
      "Iteration 2, Correction=3.618961e-02, Residual=7.704244e-03, tolerance=1.000000e-09\n",
      "Iteration 3, Correction=4.883226e-04, Residual=2.614138e-05, tolerance=1.000000e-09\n",
      "Iteration 4, Correction=1.849330e-08, Residual=1.166948e-08, tolerance=1.000000e-09\n",
      "Iteration 5, Correction=2.810782e-16, Residual=1.188896e-15, tolerance=1.000000e-09\n",
      "Step 2, load factor = 0.600\n",
      "Iteration 1, Correction=3.636798e-01, Residual=2.727134e-02, tolerance=1.000000e-09\n",
      "Iteration 2, Correction=2.774897e-02, Residual=9.709796e-03, tolerance=1.000000e-09\n",
      "Iteration 3, Correction=4.480909e-04, Residual=3.552766e-05, tolerance=1.000000e-09\n",
      "Iteration 4, Correction=1.931687e-08, Residual=2.309778e-08, tolerance=1.000000e-09\n",
      "Iteration 5, Correction=6.987810e-16, Residual=1.302956e-15, tolerance=1.000000e-09\n",
      "Step 3, load factor = 0.800\n",
      "Iteration 1, Correction=2.911111e-01, Residual=2.727134e-02, tolerance=1.000000e-09\n",
      "Iteration 2, Correction=2.353094e-02, Residual=1.259154e-02, tolerance=1.000000e-09\n",
      "Iteration 3, Correction=4.437279e-04, Residual=5.538539e-05, tolerance=1.000000e-09\n",
      "Iteration 4, Correction=2.305970e-08, Residual=4.276068e-08, tolerance=1.000000e-09\n",
      "Iteration 5, Correction=3.599151e-15, Residual=2.183537e-15, tolerance=1.000000e-09\n",
      "Step 4, load factor = 1.000\n",
      "Iteration 1, Correction=2.496276e-01, Residual=2.727134e-02, tolerance=1.000000e-09\n",
      "Iteration 2, Correction=2.069198e-02, Residual=1.661093e-02, tolerance=1.000000e-09\n",
      "Iteration 3, Correction=4.324274e-04, Residual=9.469652e-05, tolerance=1.000000e-09\n",
      "Iteration 4, Correction=4.290830e-08, Residual=6.933473e-08, tolerance=1.000000e-09\n",
      "Iteration 5, Correction=1.126307e-14, Residual=3.229464e-15, tolerance=1.000000e-09\n"
     ]
    }
   ],
   "source": [
    "# run the example to look at the results\n",
    "\n",
    "nr_num_steps = 5\n",
    "nr_print = True\n",
    "\n",
    "displacements_all, nr_info_all = hyperelastic_solver(material_props, ele_type, coords.T, connect.T, fixed_nodes, dload_info, nr_print, nr_num_steps, nr_tol=1e-9, nr_maxit=30)\n",
    "\n",
    "fname = \"disp.gif\"\n",
    "viz.make_deformation_gif(displacements_all, coords, connect, ele_type, fname)\n"
   ]
  },
  {
   "cell_type": "markdown",
   "metadata": {},
   "source": []
  }
 ],
 "metadata": {
  "kernelspec": {
   "display_name": "me700",
   "language": "python",
   "name": "python3"
  },
  "language_info": {
   "codemirror_mode": {
    "name": "ipython",
    "version": 3
   },
   "file_extension": ".py",
   "mimetype": "text/x-python",
   "name": "python",
   "nbconvert_exporter": "python",
   "pygments_lexer": "ipython3",
   "version": "3.12.9"
  },
  "orig_nbformat": 4
 },
 "nbformat": 4,
 "nbformat_minor": 2
}
